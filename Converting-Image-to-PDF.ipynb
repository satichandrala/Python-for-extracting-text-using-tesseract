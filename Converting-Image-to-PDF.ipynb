{
 "cells": [
  {
   "cell_type": "code",
   "execution_count": 49,
   "id": "cbdfc7ed",
   "metadata": {},
   "outputs": [],
   "source": [
    "# Import required Libraries\n",
    "from tkinter import *\n",
    "from tkinter import filedialog\n",
    "import img2pdf\n",
    "from PIL import Image\n",
    "import os\n",
    "from tkinter import ttk"
   ]
  },
  {
   "cell_type": "code",
   "execution_count": 50,
   "id": "a179d29a",
   "metadata": {},
   "outputs": [
    {
     "name": "stdout",
     "output_type": "stream",
     "text": [
      "Successfully made pdf file\n"
     ]
    }
   ],
   "source": [
    "img_path = \"C:/Users/satic/Downloads/Disclaimer.jpg\"\n",
    "pdf_path = \"C:/Users/satic/Downloads/Disclaimer.pdf\"\n",
    "image = Image.open(img_path)\n",
    " #converting into chunks using img2pdf\n",
    "pdf_bytes = img2pdf.convert(image.filename)\n",
    "  \n",
    "# opening or creating pdf file\n",
    "file = open(pdf_path, \"wb\")\n",
    "  \n",
    "# writing pdf files with chunks\n",
    "file.write(pdf_bytes)\n",
    "  \n",
    "# closing image file\n",
    "image.close()\n",
    "  \n",
    "# closing pdf file\n",
    "file.close()\n",
    "\n",
    "# output\n",
    "print(\"Successfully made pdf file\")"
   ]
  },
  {
   "cell_type": "code",
   "execution_count": null,
   "id": "7696323c",
   "metadata": {},
   "outputs": [
    {
     "name": "stderr",
     "output_type": "stream",
     "text": [
      "Exception in Tkinter callback\n",
      "Traceback (most recent call last):\n",
      "  File \"C:\\Users\\satic\\AppData\\Local\\Programs\\Python\\Python310\\lib\\tkinter\\__init__.py\", line 1921, in __call__\n",
      "    return self.func(*args)\n",
      "  File \"C:\\Windows\\Temp\\ipykernel_8576\\2332343035.py\", line 9, in image_to_pdf\n",
      "    with open(f\"{image}.pdf\", 'wb') as file:\n",
      "OSError: [Errno 22] Invalid argument: \"(0, 'C:/Users/satic/Downloads/Disclaimer.jpg').pdf\"\n"
     ]
    }
   ],
   "source": [
    "win = Tk()\n",
    "win.geometry('750x250')\n",
    "def select_file():\n",
    "    global images\n",
    "    images= filedialog.askopenfilenames(initialdir = \"\",title = \"Select Images\")\n",
    "    Label(win, text=images).pack()\n",
    "def image_to_pdf():\n",
    "    for image in enumerate(images):\n",
    "        with open(r\"{image}.pdf\", '') as file:\n",
    "                  file.write(img2pdf.convert(images))\n",
    "                  Label(frame,text=file).pack()\n",
    "# Adding Labels and Buttons\n",
    "Label(win, text= \"Image to Pdf Converter\", font=\"Garamond 20 bold\").pack(pady = 30)\n",
    "ttk.Button (win, text= \"Select Images\",command = select_file).pack(ipadx = 10)\n",
    "frame = Frame(win)\n",
    "frame.pack()\n",
    "ttk.Button(frame, text= \"Convert and Save the file\", command = image_to_pdf).pack(side = LEFT, pady=20, ipadx = 10)\n",
    "win.mainloop() "
   ]
  },
  {
   "cell_type": "code",
   "execution_count": null,
   "id": "b2be4a8b",
   "metadata": {},
   "outputs": [],
   "source": []
  }
 ],
 "metadata": {
  "kernelspec": {
   "display_name": "Python 3 (ipykernel)",
   "language": "python",
   "name": "python3"
  },
  "language_info": {
   "codemirror_mode": {
    "name": "ipython",
    "version": 3
   },
   "file_extension": ".py",
   "mimetype": "text/x-python",
   "name": "python",
   "nbconvert_exporter": "python",
   "pygments_lexer": "ipython3",
   "version": "3.10.4"
  }
 },
 "nbformat": 4,
 "nbformat_minor": 5
}
