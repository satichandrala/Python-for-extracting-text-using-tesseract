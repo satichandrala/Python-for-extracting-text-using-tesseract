{
 "cells": [
  {
   "cell_type": "code",
   "execution_count": 2,
   "id": "1f16b63b",
   "metadata": {},
   "outputs": [],
   "source": [
    "# Import required Libraries\n",
    "from tkinter import *\n",
    "from tkinter import filedialog\n",
    "import img2pdf\n",
    "from PIL import Image\n",
    "import os\n",
    "from tkinter import ttk"
   ]
  },
  {
   "cell_type": "code",
   "execution_count": 50,
   "id": "13cc402d",
   "metadata": {},
   "outputs": [
    {
     "name": "stdout",
     "output_type": "stream",
     "text": [
      "Successfully made pdf file\n"
     ]
    }
   ],
   "source": [
    "img_path = \"C:/Users/satic/Downloads/Disclaimer.jpg\"\n",
    "pdf_path = \"C:/Users/satic/Downloads/Disclaimer.pdf\"\n",
    "image = Image.open(img_path)\n",
    " #converting into chunks using img2pdf\n",
    "pdf_bytes = img2pdf.convert(image.filename)\n",
    "  \n",
    "# opening or creating pdf file\n",
    "file = open(pdf_path, \"wb\")\n",
    "  \n",
    "# writing pdf files with chunks\n",
    "file.write(pdf_bytes)\n",
    "  \n",
    "# closing image file\n",
    "image.close()\n",
    "  \n",
    "# closing pdf file\n",
    "file.close()\n",
    "\n",
    "# output\n",
    "print(\"Successfully made pdf file\")"
   ]
  },
  {
   "cell_type": "code",
   "execution_count": 22,
   "id": "cfc8108f",
   "metadata": {},
   "outputs": [],
   "source": [
    "win = Tk()\n",
    "win.geometry('750x250')\n",
    "def select_file():\n",
    "    global images\n",
    "    images= filedialog.askopenfilenames(initialdir = \"\",title = \"Select Images\")\n",
    "    Label(win, text=images).pack()\n",
    "def image_to_pdf():\n",
    "    for image in enumerate(images):\n",
    "        with open(\"images.pdf\", 'wb') as file:\n",
    "            file.write(img2pdf.convert(images))\n",
    "            file = filedialog.asksaveasfile(defaultextension= '*.pdf', initialfile= images)\n",
    "            Label(frame,text=file).pack()\n",
    "# def save_as():\n",
    "#     images= filedialog.asksaveasfile(initialdir = \"\",title = \"Save Images\")\n",
    "#     files = [('All Files', '*.*'), \n",
    "#              ('Python Files', '*.py'),\n",
    "#              ('Text Document', '*.txt')]\n",
    "#     file = asksaveasfile(filetypes = files, defaultextension = files)\n",
    "#     Label(frame,text=file).pack()\n",
    "\n",
    "# def save():\n",
    "#     with open(\"images\", 'a') as file:\n",
    "#             files = [('PDF File', '*.pdf')]\n",
    "#             file = filedialog.asksaveasfile(filetypes = files, defaultextension = files)\n",
    "  \n",
    "# btn = ttk.Button(win, text = 'Save', command = lambda : save())\n",
    "# btn.pack(side = TOP, pady = 20)\n",
    "# Adding Labels and Buttons\n",
    "Label(win, text= \"Image to Pdf Converter\", font=\"Garamond 20 bold\").pack(pady = 30)\n",
    "ttk.Button (win, text= \"Select Images\",command = select_file).pack(ipadx = 10)\n",
    "frame = Frame(win)\n",
    "frame.pack()\n",
    "ttk.Button(frame, text= \"Convert the file\", command = image_to_pdf).pack(side = LEFT, pady=20, ipadx = 10)\n",
    "#tk.Button(frame, text= \"save the file\", command = lambda : save()).pack(side = LEFT, pady=20, ipadx = 10)\n",
    "win.mainloop() "
   ]
  },
  {
   "cell_type": "code",
   "execution_count": 60,
   "id": "576a4df7",
   "metadata": {},
   "outputs": [],
   "source": [
    "import pathlib\n",
    "directory = initialdir\n"
   ]
  },
  {
   "cell_type": "code",
   "execution_count": 61,
   "id": "eaa45ff8",
   "metadata": {},
   "outputs": [],
   "source": [
    "def save_as():\n",
    "    images= filedialog.askopenfilenames(initialdir = \"\",title = \"Save Images\")\n",
    "    ffilepath = directory + input(\"Enter filename:\")\n",
    "    Label(frame,text=file).pack()"
   ]
  },
  {
   "cell_type": "code",
   "execution_count": null,
   "id": "1a9137c9",
   "metadata": {},
   "outputs": [],
   "source": []
  }
 ],
 "metadata": {
  "kernelspec": {
   "display_name": "Python 3 (ipykernel)",
   "language": "python",
   "name": "python3"
  },
  "language_info": {
   "codemirror_mode": {
    "name": "ipython",
    "version": 3
   },
   "file_extension": ".py",
   "mimetype": "text/x-python",
   "name": "python",
   "nbconvert_exporter": "python",
   "pygments_lexer": "ipython3",
   "version": "3.10.4"
  }
 },
 "nbformat": 4,
 "nbformat_minor": 5
}
