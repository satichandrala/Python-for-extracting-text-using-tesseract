{
 "cells": [
  {
   "cell_type": "code",
   "execution_count": 14,
   "id": "8c28b5a4",
   "metadata": {},
   "outputs": [],
   "source": [
    "# Import required Libraries\n",
    "from tkinter import *\n",
    "from tkinter import filedialog\n",
    "import img2pdf\n",
    "from tkinter import ttk"
   ]
  },
  {
   "cell_type": "code",
   "execution_count": 2,
   "id": "c6ea8d25",
   "metadata": {},
   "outputs": [
    {
     "name": "stdout",
     "output_type": "stream",
     "text": [
      "Collecting img2pdf\n",
      "  Downloading img2pdf-0.4.4.tar.gz (97 kB)\n",
      "     ---------------------------------------- 97.8/97.8 kB 1.9 MB/s eta 0:00:00\n",
      "  Preparing metadata (setup.py): started\n",
      "  Preparing metadata (setup.py): finished with status 'done'\n",
      "Requirement already satisfied: Pillow in c:\\users\\satic\\appdata\\local\\programs\\python\\python310\\lib\\site-packages (from img2pdf) (9.1.0)\n",
      "Collecting pikepdf\n",
      "  Downloading pikepdf-5.4.0-cp310-cp310-win_amd64.whl (3.4 MB)\n",
      "     ---------------------------------------- 3.4/3.4 MB 2.5 MB/s eta 0:00:00\n",
      "Collecting lxml>=4.0\n",
      "  Downloading lxml-4.9.1-cp310-cp310-win_amd64.whl (3.6 MB)\n",
      "     ---------------------------------------- 3.6/3.6 MB 1.5 MB/s eta 0:00:00\n",
      "Collecting deprecation\n",
      "  Using cached deprecation-2.1.0-py2.py3-none-any.whl (11 kB)\n",
      "Requirement already satisfied: packaging in c:\\users\\satic\\appdata\\local\\programs\\python\\python310\\lib\\site-packages (from pikepdf->img2pdf) (21.3)\n",
      "Requirement already satisfied: pyparsing!=3.0.5,>=2.0.2 in c:\\users\\satic\\appdata\\local\\programs\\python\\python310\\lib\\site-packages (from packaging->pikepdf->img2pdf) (3.0.9)\n",
      "Building wheels for collected packages: img2pdf\n",
      "  Building wheel for img2pdf (setup.py): started\n",
      "  Building wheel for img2pdf (setup.py): finished with status 'done'\n",
      "  Created wheel for img2pdf: filename=img2pdf-0.4.4-py3-none-any.whl size=44861 sha256=4ac888c3ce6cdbfc32d62e1168d0d47ae356438e52feeb36ef7e64ed7b7c1783\n",
      "  Stored in directory: c:\\users\\satic\\appdata\\local\\pip\\cache\\wheels\\0b\\85\\be\\a7faed8033e47e5a653a2502b5494b1d613bcd075c99b8152e\n",
      "Successfully built img2pdf\n",
      "Installing collected packages: lxml, deprecation, pikepdf, img2pdf\n",
      "Successfully installed deprecation-2.1.0 img2pdf-0.4.4 lxml-4.9.1 pikepdf-5.4.0\n",
      "Note: you may need to restart the kernel to use updated packages.\n"
     ]
    }
   ],
   "source": [
    "pip install img2pdf"
   ]
  },
  {
   "cell_type": "code",
   "execution_count": 15,
   "id": "1aa67c92",
   "metadata": {},
   "outputs": [],
   "source": [
    "win = Tk()"
   ]
  },
  {
   "cell_type": "code",
   "execution_count": 16,
   "id": "805dbb0a",
   "metadata": {},
   "outputs": [
    {
     "data": {
      "text/plain": [
       "''"
      ]
     },
     "execution_count": 16,
     "metadata": {},
     "output_type": "execute_result"
    }
   ],
   "source": [
    "win.geometry('750x250')"
   ]
  },
  {
   "cell_type": "code",
   "execution_count": 17,
   "id": "339e586b",
   "metadata": {},
   "outputs": [],
   "source": [
    "def select_file():\n",
    "    global images\n",
    "    images= filedialog.askopenfilenames(initialdir = \"\",title = \"Select Images\")\n",
    "    Label(win, text=images).pack()"
   ]
  },
  {
   "cell_type": "code",
   "execution_count": null,
   "id": "f31a2d80",
   "metadata": {},
   "outputs": [
    {
     "name": "stderr",
     "output_type": "stream",
     "text": [
      "Exception in Tkinter callback\n",
      "Traceback (most recent call last):\n",
      "  File \"C:\\Users\\satic\\AppData\\Local\\Programs\\Python\\Python310\\lib\\tkinter\\__init__.py\", line 1921, in __call__\n",
      "    return self.func(*args)\n",
      "  File \"C:\\Windows\\Temp\\ipykernel_8576\\232150699.py\", line 3, in image_to_pdf\n",
      "    with open(f\"{image}.pdf\", \"wb\") as file:\n",
      "OSError: [Errno 22] Invalid argument: \"(0, 'C:/Users/satic/Downloads/20220717_001948.jpg').pdf\"\n"
     ]
    }
   ],
   "source": [
    "def image_to_pdf():\n",
    "    for image in enumerate(images):\n",
    "        with open(f\"{image}.pdf\", \"wb\") as file:\n",
    "                  file.write(img2pdf.convert(images))\n",
    "                  Label(frame,text=file).pack()\n",
    "# Adding Labels and Buttons\n",
    "Label(win, text= \"Image to Pdf COnverter\", font=\"Garamond 20 bold\").pack(pady = 30)\n",
    "ttk.Button (win, text= \"Select Images\",command = select_file).pack(ipadx = 10)\n",
    "frame = Frame(win)\n",
    "frame.pack()\n",
    "ttk.Button(frame, text= \"Convert and Save the file\", command = image_to_pdf).pack(side = LEFT, pady=20, ipadx = 10)\n",
    "win.mainloop()                "
   ]
  },
  {
   "cell_type": "code",
   "execution_count": null,
   "id": "d17ae4e9",
   "metadata": {},
   "outputs": [],
   "source": []
  }
 ],
 "metadata": {
  "kernelspec": {
   "display_name": "Python 3 (ipykernel)",
   "language": "python",
   "name": "python3"
  },
  "language_info": {
   "codemirror_mode": {
    "name": "ipython",
    "version": 3
   },
   "file_extension": ".py",
   "mimetype": "text/x-python",
   "name": "python",
   "nbconvert_exporter": "python",
   "pygments_lexer": "ipython3",
   "version": "3.10.4"
  }
 },
 "nbformat": 4,
 "nbformat_minor": 5
}
