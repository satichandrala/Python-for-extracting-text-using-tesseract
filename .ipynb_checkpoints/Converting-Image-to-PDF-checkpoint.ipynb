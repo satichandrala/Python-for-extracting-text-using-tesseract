{
 "cells": [
  {
   "cell_type": "markdown",
   "id": "4e384df7",
   "metadata": {},
   "source": [
    "### This code contains *two ways* to make a pdf from an image using Python\n",
    "- The **first one** is using a **basic method**(need to specify path) with img2pdf library (you need to pip install img2pdf incase you never installed it before. )\n",
    "   - The image I used is one of the random images in the first case. \n",
    "   - Here, you give the path to your image file and where to save the pdf and the name you want to give it.\n",
    "   \n",
    "- The **second** is making using **Tkinter to make a GUI (Graphical User Interface)**.\n",
    "  - Once you run the code, you'll get the GUI displayed. (we use the similar as above with img2pdf library, but a little better since this makes life a bit easier at the click of a button (Ofcourse the one we created, :trollface:)\n",
    "  - With second one, you don't need to give a path, rather you can click the buttons from GUI\n",
    "  - After that, select your image and click on convert and save, in the directory you want to save.\n",
    "  - Once converted, the path to the pdf is displayed. You can check and verify the same"
   ]
  },
  {
   "cell_type": "code",
   "execution_count": null,
   "id": "e14b8e22",
   "metadata": {},
   "outputs": [],
   "source": [
    "# Import required Libraries\n",
    "from tkinter import *\n",
    "from tkinter import filedialog\n",
    "import img2pdf\n",
    "from PIL import Image\n",
    "import os\n",
    "from tkinter import ttk"
   ]
  },
  {
   "cell_type": "code",
   "execution_count": null,
   "id": "a0f12866",
   "metadata": {},
   "outputs": [],
   "source": [
    "img_path = \"C:/Users/satic/Downloads/Disclaimer.jpg\"\n",
    "pdf_path = \"C:/Users/satic/Downloads/Disclaimer.pdf\"\n",
    "image = Image.open(img_path)\n",
    " #converting into chunks using img2pdf\n",
    "pdf_bytes = img2pdf.convert(image.filename)\n",
    "  \n",
    "# opening or creating pdf file\n",
    "file = open(pdf_path, \"wb\")\n",
    "  \n",
    "# writing pdf files with chunks\n",
    "file.write(pdf_bytes)\n",
    "  \n",
    "# closing image file\n",
    "image.close()\n",
    "  \n",
    "# closing pdf file\n",
    "file.close()\n",
    "\n",
    "# output\n",
    "print(\"Successfully made pdf file\")"
   ]
  },
  {
   "cell_type": "code",
   "execution_count": null,
   "id": "f5289a75",
   "metadata": {},
   "outputs": [],
   "source": [
    "win = Tk()\n",
    "win.geometry('500x500')\n",
    "def select_file():\n",
    "    global images\n",
    "    images= filedialog.askopenfilenames(initialdir = \"\",title = \"Select Images\")\n",
    "    Label(win, text= images).pack()\n",
    "def image_to_pdf():\n",
    "            f = filedialog.asksaveasfile(mode = 'wb', defaultextension= '*.pdf')\n",
    "            f.write(img2pdf.convert(images))\n",
    "            Label(frame,text=\"Conversion to Pdf done, Check your file\").pack()\n",
    "# Adding Labels and Buttons\n",
    "Label(win, text= \"Image to Pdf Converter\", font=\"Garamond 20 bold\").pack(pady = 30)\n",
    "ttk.Button (win, text= \"Click to Select Images\",command = select_file).pack(ipadx = 10)\n",
    "frame = Frame(win)\n",
    "frame.pack()\n",
    "ttk.Button(frame, text= \"Click to Convert and save as\", command = image_to_pdf).pack(side = LEFT, pady=20, ipadx = 10)\n",
    "win.mainloop() "
   ]
  }
 ],
 "metadata": {
  "kernelspec": {
   "display_name": "Python 3 (ipykernel)",
   "language": "python",
   "name": "python3"
  },
  "language_info": {
   "codemirror_mode": {
    "name": "ipython",
    "version": 3
   },
   "file_extension": ".py",
   "mimetype": "text/x-python",
   "name": "python",
   "nbconvert_exporter": "python",
   "pygments_lexer": "ipython3",
   "version": "3.10.4"
  }
 },
 "nbformat": 4,
 "nbformat_minor": 5
}
