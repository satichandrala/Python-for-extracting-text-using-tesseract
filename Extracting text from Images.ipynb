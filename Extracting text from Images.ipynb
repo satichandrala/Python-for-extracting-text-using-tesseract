{
 "cells": [
  {
   "cell_type": "markdown",
   "id": "e9aecef2",
   "metadata": {},
   "source": [
    "# Using OpenCV, Tesseract, Tkinter"
   ]
  },
  {
   "cell_type": "code",
   "execution_count": 1,
   "id": "6be41f4d",
   "metadata": {},
   "outputs": [
    {
     "name": "stdout",
     "output_type": "stream",
     "text": [
      "Requirement already satisfied: opencv-python in c:\\users\\satic\\appdata\\local\\programs\\python\\python310\\lib\\site-packages (4.6.0.66)\n",
      "Requirement already satisfied: numpy>=1.14.5 in c:\\users\\satic\\appdata\\local\\programs\\python\\python310\\lib\\site-packages (from opencv-python) (1.22.3)\n",
      "Note: you may need to restart the kernel to use updated packages.\n"
     ]
    }
   ],
   "source": [
    "pip install opencv-python"
   ]
  },
  {
   "cell_type": "code",
   "execution_count": 2,
   "id": "49bde729",
   "metadata": {},
   "outputs": [
    {
     "name": "stdout",
     "output_type": "stream",
     "text": [
      "Requirement already satisfied: pytesseract in c:\\users\\satic\\appdata\\local\\programs\\python\\python310\\lib\\site-packages (0.3.9)\n",
      "Requirement already satisfied: Pillow>=8.0.0 in c:\\users\\satic\\appdata\\local\\programs\\python\\python310\\lib\\site-packages (from pytesseract) (9.1.0)\n",
      "Requirement already satisfied: packaging>=21.3 in c:\\users\\satic\\appdata\\local\\programs\\python\\python310\\lib\\site-packages (from pytesseract) (21.3)\n",
      "Requirement already satisfied: pyparsing!=3.0.5,>=2.0.2 in c:\\users\\satic\\appdata\\local\\programs\\python\\python310\\lib\\site-packages (from packaging>=21.3->pytesseract) (3.0.9)\n",
      "Note: you may need to restart the kernel to use updated packages.\n"
     ]
    }
   ],
   "source": [
    "pip install pytesseract"
   ]
  }
 ],
 "metadata": {
  "kernelspec": {
   "display_name": "Python 3 (ipykernel)",
   "language": "python",
   "name": "python3"
  },
  "language_info": {
   "codemirror_mode": {
    "name": "ipython",
    "version": 3
   },
   "file_extension": ".py",
   "mimetype": "text/x-python",
   "name": "python",
   "nbconvert_exporter": "python",
   "pygments_lexer": "ipython3",
   "version": "3.10.4"
  },
  "vscode": {
   "interpreter": {
    "hash": "e857528af75c6a5c8450c2ee7bc0d9762499a377019543ddaee92589bc7b1e1f"
   }
  }
 },
 "nbformat": 4,
 "nbformat_minor": 5
}
